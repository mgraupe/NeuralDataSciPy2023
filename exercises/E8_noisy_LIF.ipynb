{
 "cells": [
  {
   "cell_type": "markdown",
   "metadata": {
    "cell_id": "00000-3c8d1e65-3de1-4f8c-9091-854ef4bf1ce0"
   },
   "source": [
    "# E8: Numerical integration of ODEs, and application to the Leaky Integrate-and-Fire neuron model -- Homework\n",
    "---\n",
    "\n",
    "Based on the tutorial, we will use simulations of the LIF to check analytical results for the f-I curve that predicts the firing rate of the LIF as a funtion of the input current.\n",
    "\n",
    "### Let us first plot the analytical solution for the firing rate in the deterministic case ($\\sigma=0$)\n",
    "\n",
    "The time from one spike to the next must be exactly the time it takes to reach the spike threshold when starting from the reset potential: $V(T)=V_{\\rm threshold}$. Using the analytical solution for $V(t)$, with $V(t=0)=V_{\\rm reset}$,  allows us to calculate the firing rate $f(I)$:\n",
    "\n",
    "$$f(I) = \\frac{1}{\\tau_m} \\left(\\log\\frac{E_L+I/g_L-V_{\\rm reset}}{E_L+I/g_L-V_{\\rm threshold}}\\right)^{-1}$$\n"
   ]
  },
  {
   "cell_type": "code",
   "execution_count": 1,
   "metadata": {
    "cell_id": "00002-05ac4354-1dcc-4d5f-908e-a89fed95c5fb",
    "output_cleared": false
   },
   "outputs": [],
   "source": [
    "# some imports for the numerics to follow, you'll be familiar with these\n",
    "%matplotlib inline\n",
    "import numpy as np\n",
    "import matplotlib.pyplot as plt"
   ]
  },
  {
   "cell_type": "code",
   "execution_count": 2,
   "metadata": {
    "cell_id": "00003-c13f9f41-1518-4c0b-9a59-3bfa67eedb64",
    "output_cleared": false,
    "scrolled": true
   },
   "outputs": [
    {
     "name": "stderr",
     "output_type": "stream",
     "text": [
      "/Users/jranft/miniconda3/lib/python3.7/site-packages/ipykernel_launcher.py:13: RuntimeWarning: invalid value encountered in log\n",
      "  del sys.path[0]\n"
     ]
    },
    {
     "data": {
      "text/plain": [
       "<matplotlib.legend.Legend at 0x10ee4a128>"
      ]
     },
     "execution_count": 2,
     "metadata": {},
     "output_type": "execute_result"
    },
    {
     "data": {
      "image/png": "[encoded data removed]",
      "text/plain": [
       "<Figure size 432x288 with 1 Axes>"
      ]
     },
     "metadata": {
      "needs_background": "light"
     },
     "output_type": "display_data"
    }
   ],
   "source": [
    "# define parameters\n",
    "tau = 7.     # decay time constant, in ms\n",
    "V0 = -70.    # initial voltage, in mV\n",
    "EL = -50.    # resting potential, in mV\n",
    "Vthreshold = -30. # mV\n",
    "Vreset = -55.0    # mV\n",
    "\n",
    "def fI_theory(I):\n",
    "    \"\"\"Firing rate (in Hz) of the LIF as a function \n",
    "    of the effective input I/g_L.\"\"\"\n",
    "    upper = EL + I -Vreset\n",
    "    lower = EL + I - Vthreshold\n",
    "    return 1e3/(tau*np.log(upper/lower))\n",
    "\n",
    "Ivals = np.arange(10., 30, 0.01)\n",
    "rates_theory = fI_theory(Ivals)\n",
    "\n",
    "# set NaN-values (no solution) to 0 below critical current\n",
    "rates_theory[Ivals<20] = 0\n",
    "\n",
    "fig, ax = plt.subplots()\n",
    "ax.plot(Ivals, rates_theory, label='Theory')\n",
    "ax.set_xlabel('Input I (mV)')\n",
    "ax.set_ylabel('Firing rate (Hz)')\n",
    "ax.legend()"
   ]
  },
  {
   "cell_type": "markdown",
   "metadata": {},
   "source": [
    "#### Homework questions:\n",
    "\n",
    "1. Simulate the LIF for a duration of 1s, for the value of `I0 = 21.0`. Plot the voltage dynamics for the deterministic case $\\sigma=0$. How many spikes do you count? Repeat the same for $\\sigma=2$.\n",
    "2. Repeat the simulation of the LIF for different values of the input, `I0s = np.arange(15.,25.5,0.5)`, for a fixed value of $\\sigma=2$, and record the number of spikes and/or the spiketimes. To obtain better statistics, simulate the noisy LIF each time for 5s.\n",
    "3. From the recorded spiketimes or number of spikes, calculate the firing rate for each of the above values of the input.\n",
    "4. Plot your results for the firing rate obtained by simulations together with the analytical result for the firing rate in the deterministic case (see above)."
   ]
  },
  {
   "cell_type": "code",
   "execution_count": 3,
   "metadata": {},
   "outputs": [],
   "source": [
    "# 1) see tutorial for example code \n",
    "\n",
    "I0 = 21. \n",
    "\n"
   ]
  },
  {
   "cell_type": "code",
   "execution_count": 4,
   "metadata": {},
   "outputs": [],
   "source": [
    "# 2) try to implement a loop over the different values of I\n",
    "\n",
    "I0s = np.arange(15.,25.5,0.5)\n",
    "nI = len(I0s)\n",
    "\n",
    "sigma = 2.\n",
    "\n",
    "all_spiketimes = []\n",
    "\n",
    "# TIP: write an outer loop over currents \n",
    "# and do simulation for one \n",
    "for I in Is:\n",
    "    spiketimes = []\n",
    "    \n",
    "    # do computation...\n",
    "    \n",
    "    all_spiketimes.append(spiketimes)\n",
    "    "
   ]
  },
  {
   "cell_type": "code",
   "execution_count": 5,
   "metadata": {},
   "outputs": [],
   "source": [
    "# 3) a simple proxy of the firing rate (in Hz) is \n",
    "#    (number of spikes) / duration (in seconds!)"
   ]
  },
  {
   "cell_type": "code",
   "execution_count": 6,
   "metadata": {},
   "outputs": [],
   "source": [
    "# 4) use above code and add individual points with your rates\n",
    "\n",
    "# Tip for better 'aesthetics':\n",
    "# you may want to use circle markers to plot only the points\n",
    "# that you simulated, i.e., without connecting lines:\n",
    "#ax.plot(I, rates_simulation, 'o', label='Simulation')"
   ]
  }
 ],
 "metadata": {
  "deepnote_execution_queue": [],
  "deepnote_notebook_id": "eb075706-810a-4ca1-b9d7-7b73f5b85d74",
  "kernelspec": {
   "display_name": "Python 3 (ipykernel)",
   "language": "python",
   "name": "python3"
  },
  "language_info": {
   "codemirror_mode": {
    "name": "ipython",
    "version": 3
   },
   "file_extension": ".py",
   "mimetype": "text/x-python",
   "name": "python",
   "nbconvert_exporter": "python",
   "pygments_lexer": "ipython3",
   "version": "3.8.12"
  }
 },
 "nbformat": 4,
 "nbformat_minor": 2
}
