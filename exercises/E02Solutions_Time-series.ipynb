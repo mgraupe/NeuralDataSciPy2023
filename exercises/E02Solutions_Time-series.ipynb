{
 "cells": [
  {
   "cell_type": "markdown",
   "metadata": {},
   "source": [
    "# E02 Time series - solutions"
   ]
  },
  {
   "cell_type": "markdown",
   "metadata": {},
   "source": [
    "1. Download the numpy binary file `time-series4.npy` located in the `excercises` folder of the [github repository](https://github.com/mgraupe/DataSciPy/tree/master/excercises) or the moodle. Load the file using the numpy `load` function and save the imported data in variable named `data4` (note that the `time-series4.npy` file needs to be located in the same folder as the jupyter-notebook)."
   ]
  },
  {
   "cell_type": "code",
   "execution_count": 24,
   "metadata": {},
   "outputs": [],
   "source": [
    "import numpy as np\n",
    "import matplotlib.pyplot as plt\n",
    "%matplotlib inline\n",
    "\n",
    "data4 = np.load('time-series4.npy')\n"
   ]
  },
  {
   "cell_type": "markdown",
   "metadata": {},
   "source": [
    "2. In the loaded array, the first row contains the time-points (in seconds) at which the transmembrane potential (in volts, in the 2nd row) were recorded. Plot the data in a meaningful way.  "
   ]
  },
  {
   "cell_type": "code",
   "execution_count": 25,
   "metadata": {},
   "outputs": [
    {
     "data": {
      "text/plain": [
       "Text(0, 0.5, 'transmembrane voltage (mV)')"
      ]
     },
     "execution_count": 25,
     "metadata": {},
     "output_type": "execute_result"
    },
    {
     "data": {
      "image/png": "[encoded data removed]",
      "text/plain": [
       "<Figure size 432x288 with 1 Axes>"
      ]
     },
     "metadata": {
      "needs_background": "light"
     },
     "output_type": "display_data"
    }
   ],
   "source": [
    "# note that the code below to generate a figure is not part of the assignment \n",
    "plt.plot(data4[0],data4[1]*1000.)\n",
    "plt.xlabel('time (s)')\n",
    "plt.ylabel('transmembrane voltage (mV)')"
   ]
  },
  {
   "cell_type": "markdown",
   "metadata": {},
   "source": [
    "3. What is the time interval between each individual potential recording ? Is the interval the same throughout the recording, i.e., across all time points?  <br>"
   ]
  },
  {
   "cell_type": "code",
   "execution_count": 39,
   "metadata": {},
   "outputs": [
    {
     "name": "stdout",
     "output_type": "stream",
     "text": [
      "first 100 and last 100 elements :  [2.e-05 2.e-05 2.e-05 2.e-05 2.e-05 2.e-05 2.e-05 2.e-05 2.e-05 2.e-05\n",
      " 2.e-05 2.e-05 2.e-05 2.e-05 2.e-05 2.e-05 2.e-05 2.e-05 2.e-05 2.e-05\n",
      " 2.e-05 2.e-05 2.e-05 2.e-05 2.e-05 2.e-05 2.e-05 2.e-05 2.e-05 2.e-05\n",
      " 2.e-05 2.e-05 2.e-05 2.e-05 2.e-05 2.e-05 2.e-05 2.e-05 2.e-05 2.e-05\n",
      " 2.e-05 2.e-05 2.e-05 2.e-05 2.e-05 2.e-05 2.e-05 2.e-05 2.e-05 2.e-05\n",
      " 2.e-05 2.e-05 2.e-05 2.e-05 2.e-05 2.e-05 2.e-05 2.e-05 2.e-05 2.e-05\n",
      " 2.e-05 2.e-05 2.e-05 2.e-05 2.e-05 2.e-05 2.e-05 2.e-05 2.e-05 2.e-05\n",
      " 2.e-05 2.e-05 2.e-05 2.e-05 2.e-05 2.e-05 2.e-05 2.e-05 2.e-05 2.e-05\n",
      " 2.e-05 2.e-05 2.e-05 2.e-05 2.e-05 2.e-05 2.e-05 2.e-05 2.e-05 2.e-05\n",
      " 2.e-05 2.e-05 2.e-05 2.e-05 2.e-05 2.e-05 2.e-05 2.e-05 2.e-05 2.e-05] [2.e-05 2.e-05 2.e-05 2.e-05 2.e-05 2.e-05 2.e-05 2.e-05 2.e-05 2.e-05\n",
      " 2.e-05 2.e-05 2.e-05 2.e-05 2.e-05 2.e-05 2.e-05 2.e-05 2.e-05 2.e-05\n",
      " 2.e-05 2.e-05 2.e-05 2.e-05 2.e-05 2.e-05 2.e-05 2.e-05 2.e-05 2.e-05\n",
      " 2.e-05 2.e-05 2.e-05 2.e-05 2.e-05 2.e-05 2.e-05 2.e-05 2.e-05 2.e-05\n",
      " 2.e-05 2.e-05 2.e-05 2.e-05 2.e-05 2.e-05 2.e-05 2.e-05 2.e-05 2.e-05\n",
      " 2.e-05 2.e-05 2.e-05 2.e-05 2.e-05 2.e-05 2.e-05 2.e-05 2.e-05 2.e-05\n",
      " 2.e-05 2.e-05 2.e-05 2.e-05 2.e-05 2.e-05 2.e-05 2.e-05 2.e-05 2.e-05\n",
      " 2.e-05 2.e-05 2.e-05 2.e-05 2.e-05 2.e-05 2.e-05 2.e-05 2.e-05 2.e-05\n",
      " 2.e-05 2.e-05 2.e-05 2.e-05 2.e-05 2.e-05 2.e-05 2.e-05 2.e-05 2.e-05\n",
      " 2.e-05 2.e-05 2.e-05 2.e-05 2.e-05 2.e-05 2.e-05 2.e-05 2.e-05 2.e-05]\n",
      "The interval between recorings is :  0.02  ms\n"
     ]
    },
    {
     "data": {
      "text/plain": [
       "(array([    0.,     0.,     0.,     0., 13985., 18514.,     0.,     0.,\n",
       "            0.,     0.]),\n",
       " array([0.0195, 0.0196, 0.0197, 0.0198, 0.0199, 0.02  , 0.0201, 0.0202,\n",
       "        0.0203, 0.0204, 0.0205]),\n",
       " <a list of 10 Patch objects>)"
      ]
     },
     "execution_count": 39,
     "metadata": {},
     "output_type": "execute_result"
    },
    {
     "data": {
      "image/png": "[encoded data removed]",
      "text/plain": [
       "<Figure size 432x288 with 1 Axes>"
      ]
     },
     "metadata": {
      "needs_background": "light"
     },
     "output_type": "display_data"
    }
   ],
   "source": [
    "intervals = np.diff(data4[0])\n",
    "print('first 100 and last 100 elements : ',intervals[:100],intervals[-100:])\n",
    "print('The interval between recorings is : ', intervals[0]*1000, ' ms')\n",
    "\n",
    "plt.hist(intervals*1000,range=[0.0195,0.0205])"
   ]
  },
  {
   "cell_type": "markdown",
   "metadata": {},
   "source": [
    "Apart from numerical inaccuracies, the interval is constant throughout the recording. "
   ]
  },
  {
   "cell_type": "markdown",
   "metadata": {},
   "source": [
    "4. Calculate the mean of the first 500 data-points, and the mean of all data-points betweeen the 23,000th and 25,000th element. <br>**Hint:** You can use numpy slicing to access subsets of the array."
   ]
  },
  {
   "cell_type": "code",
   "execution_count": 40,
   "metadata": {},
   "outputs": [
    {
     "name": "stdout",
     "output_type": "stream",
     "text": [
      "the mean of the first 500 data-points is : -59.51112746755036 mV\n",
      "the mean of all points betweeen the 23,000th and 25,000th element is : -88.76587758696687  mV\n"
     ]
    }
   ],
   "source": [
    "print('the mean of the first 500 data-points is :',np.mean(data4[1,:500])*1000., 'mV')\n",
    "print('the mean of all points betweeen the 23,000th and 25,000th element is :', np.mean(data4[1,22999:25000])*1000,' mV')"
   ]
  },
  {
   "cell_type": "code",
   "execution_count": 41,
   "metadata": {},
   "outputs": [
    {
     "data": {
      "text/plain": [
       "[<matplotlib.lines.Line2D at 0x7f75fba8c190>]"
      ]
     },
     "execution_count": 41,
     "metadata": {},
     "output_type": "execute_result"
    },
    {
     "data": {
      "image/png": "[encoded data removed]",
      "text/plain": [
       "<Figure size 432x288 with 1 Axes>"
      ]
     },
     "metadata": {
      "needs_background": "light"
     },
     "output_type": "display_data"
    }
   ],
   "source": [
    "plt.plot(data4[0],data4[1]*1000.)\n",
    "plt.xlabel('time (s)')\n",
    "plt.ylabel('transmembrane voltage (mV)')\n",
    "plt.plot(data4[0,:500],data4[1,:500]*1000.)\n",
    "plt.plot(data4[0,22999:25000],data4[1,22999:25000]*1000.)"
   ]
  },
  {
   "cell_type": "markdown",
   "metadata": {},
   "source": [
    "### The information below is not part of the homework assignment\n",
    "\n",
    "Remember Ohm's law : R = U/I . In this experiment, a hyperpolarizing current has been injected. The input resistance of the neuron can be calcualted from the measured change in membrane potential. The injected current was I = -0.1 nA. In turn, the input resistance is : "
   ]
  },
  {
   "cell_type": "code",
   "execution_count": 32,
   "metadata": {},
   "outputs": [],
   "source": [
    "R = (-0.0888-(-0.0595))/(-0.1E-9)"
   ]
  },
  {
   "cell_type": "code",
   "execution_count": 33,
   "metadata": {},
   "outputs": [
    {
     "name": "stdout",
     "output_type": "stream",
     "text": [
      "The input resistance of the neuron is :  293.00000000000006 MOhm\n"
     ]
    }
   ],
   "source": [
    "print('The input resistance of the neuron is : ',R/1E6, 'MOhm')"
   ]
  }
 ],
 "metadata": {
  "kernelspec": {
   "display_name": "Python 3 (ipykernel)",
   "language": "python",
   "name": "python3"
  },
  "language_info": {
   "codemirror_mode": {
    "name": "ipython",
    "version": 3
   },
   "file_extension": ".py",
   "mimetype": "text/x-python",
   "name": "python",
   "nbconvert_exporter": "python",
   "pygments_lexer": "ipython3",
   "version": "3.8.12"
  }
 },
 "nbformat": 4,
 "nbformat_minor": 2
}
