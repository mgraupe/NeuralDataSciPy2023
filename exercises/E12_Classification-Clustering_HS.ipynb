{
 "cells": [
  {
   "cell_type": "code",
   "execution_count": 4,
   "metadata": {},
   "outputs": [],
   "source": [
    "import numpy as np\n",
    "import scipy.special as spsc\n",
    "import scipy.stats as sps\n",
    "import sklearn.model_selection as skms\n",
    "import sklearn.cluster as skc\n",
    "from sklearn.metrics import silhouette_samples, silhouette_score\n",
    "\n",
    "import matplotlib.pyplot as plt\n",
    "import seaborn as sns\n",
    "\n",
    "# for plotting in notebooks\n",
    "%matplotlib inline\n",
    "\n",
    "# set random seed for reproducibility\n",
    "np.random.seed(7)"
   ]
  },
  {
   "cell_type": "markdown",
   "metadata": {},
   "source": [
    "# T12 Classifcation and clustering"
   ]
  },
  {
   "cell_type": "markdown",
   "metadata": {},
   "source": [
    "## Homework - k means"
   ]
  },
  {
   "cell_type": "markdown",
   "metadata": {},
   "source": [
    "In today's homwork, we will use k-means to cluster neural responses to visual stimuli. We will again work with simulated data. \n",
    "\n",
    "This time, we are interested in seeing whether our hypothetical neural population has uniformely distributed preferred orientations, or whether the preferred directions cluster around certain values (e.g., there might be more neurons responding for 0 or 90 degree orientations than for 45 or 135 degrees).\n",
    "\n",
    "We'll apply k-means to the tuning curves."
   ]
  },
  {
   "cell_type": "markdown",
   "metadata": {},
   "source": [
    "## 1 - Simulate V1 responses"
   ]
  },
  {
   "cell_type": "markdown",
   "metadata": {},
   "source": [
    "### Properties of simulated neurons\n",
    "\n",
    "We will assume that most neurons prefer $0$ or $\\pi/2$ (corresponding to 0 or 90 degree). We simulate two populations with noisy preferred direction values."
   ]
  },
  {
   "cell_type": "code",
   "execution_count": 5,
   "metadata": {},
   "outputs": [],
   "source": [
    "n_neurons = 100\n",
    "\n",
    "# Each neuron prefers a random direction between 0 and pi\n",
    "preferred_directions = np.concatenate([np.random.randn(int(n_neurons/2))/10, \n",
    "                                       np.random.randn(int(n_neurons/2))/10 + np.pi/2])"
   ]
  },
  {
   "cell_type": "markdown",
   "metadata": {},
   "source": [
    "### Properties of simulated stimuli"
   ]
  },
  {
   "cell_type": "code",
   "execution_count": 6,
   "metadata": {},
   "outputs": [],
   "source": [
    "n_stimuli = 200\n",
    "\n",
    "# Define stimuli: In each of 200 trials, a different random orientation is presented\n",
    "stimuli = np.random.uniform(0, 1, n_stimuli) * np.pi"
   ]
  },
  {
   "cell_type": "markdown",
   "metadata": {},
   "source": [
    "### Simulate neural responses"
   ]
  },
  {
   "cell_type": "code",
   "execution_count": 7,
   "metadata": {},
   "outputs": [],
   "source": [
    "# probability density of the van Mises distribution\n",
    "# This function is used to model the circular tuning curve\n",
    "\n",
    "def noisy_vmdist(x, mu, noiselevel):\n",
    "    \n",
    "    kappa = 3.65  # concentration parameter kappa determines the width of the tuning curves\n",
    "    \n",
    "    pdf = (1 / (np.pi * spsc.i0(kappa))) * np.exp(kappa * np.cos(2 * (x - mu)))\n",
    "\n",
    "    noise = np.random.rand(len(x)) * noiselevel\n",
    "    \n",
    "    return pdf + noise"
   ]
  },
  {
   "cell_type": "code",
   "execution_count": 8,
   "metadata": {},
   "outputs": [],
   "source": [
    "# Create firing rates as a function of presented orientations\n",
    "\n",
    "# YOUR CODE HERE \n",
    "\n",
    "# Use the Von Mises distribution function defined above\n",
    "\n",
    "# YOUR CODE HERE"
   ]
  },
  {
   "cell_type": "code",
   "execution_count": 10,
   "metadata": {},
   "outputs": [
    {
     "data": {
      "image/png": "[encoded data removed]",
      "text/plain": [
       "<Figure size 840x300 with 2 Axes>"
      ]
     },
     "metadata": {
      "needs_background": "light"
     },
     "output_type": "display_data"
    }
   ],
   "source": [
    "# index that sorts neurons by preferred, and stimuli by presented orientation\n",
    "\n",
    "# YOUR CODE HERE\n",
    "\n",
    "\n",
    "# plot V1 responses in different trials, sorted by preferred orientation and stimulus value\n",
    "plt.figure(figsize=(7,2.5), dpi=120)\n",
    "plt.subplot(1,2,1)\n",
    "\n",
    "# YOUR CODE HERE\n",
    "\n",
    "plt.ylabel('neurons (sorted)')\n",
    "plt.xlabel('trials (unsorted)')\n",
    "# plt.colorbar(label='firing rate (Hz)')\n",
    "plt.subplot(1,2,2)\n",
    "\n",
    "# YOUR CODE HERE\n",
    "\n",
    "plt.ylabel('neurons (sorted)')\n",
    "plt.xlabel('trials (sorted)')\n",
    "# plt.colorbar(label='firing rate (Hz)')\n",
    "plt.tight_layout()"
   ]
  },
  {
   "cell_type": "code",
   "execution_count": 11,
   "metadata": {},
   "outputs": [],
   "source": [
    "# calculate tuning curves\n",
    "\n",
    "# UNCOMMENT THE CODE BELOW TO CALCULATE TUNING CURVES. SHOULD HAVE SHAPE [n_neurons X 8]\n",
    "\n",
    "# tuning_curves = np.array([sps.binned_statistic(stimuli, fr, statistic='mean', bins=8)[0] \n",
    "#                           for fr in V1_rates])\n",
    "\n",
    "# print(tuning_curves.shape)"
   ]
  },
  {
   "cell_type": "code",
   "execution_count": 12,
   "metadata": {},
   "outputs": [
    {
     "data": {
      "image/png": "[encoded data removed]",
      "text/plain": [
       "<Figure size 240x240 with 1 Axes>"
      ]
     },
     "metadata": {
      "needs_background": "light"
     },
     "output_type": "display_data"
    }
   ],
   "source": [
    "plt.figure(figsize=(2,2), dpi=120)\n",
    "# plt.plot(tuning_curves[:50].T, 'darkred', alpha=.2) # population 1\n",
    "# plt.plot(tuning_curves[50:].T, 'lightblue', alpha=.2) # population 2\n",
    "plt.xticks([0,4,8], ['0', r'$\\pi/2$', r'$\\pi$'])\n",
    "plt.xlabel('orientation')\n",
    "plt.ylabel('mean firing rate')\n",
    "sns.despine()"
   ]
  },
  {
   "cell_type": "markdown",
   "metadata": {},
   "source": [
    "## 2 - Cluster neurons with k-means"
   ]
  },
  {
   "cell_type": "markdown",
   "metadata": {},
   "source": [
    "We will now cluster neurons based on their tuning curves. Note that we calculated tuning curves by averaging firing rates for each of 8 bins. This means that the space that we cluster in is 8-dimensional. Since we have 50 neurons, our dataset has 8 features (the bins) and 100 samples (the neurons) (which we simulated from 2 underlying distributions or clusters).\n",
    "\n",
    "Note that this is the opposite situation as the one in the tutorial: There, our neurons were the features, and different trials were the samples. Our goal was to classify trials based on values in the neuron-dimensional space. Instead, here we want to cluster neurons into groups. "
   ]
  },
  {
   "cell_type": "markdown",
   "metadata": {},
   "source": [
    "### Cluster with correct number of clusters"
   ]
  },
  {
   "cell_type": "markdown",
   "metadata": {},
   "source": [
    "Use `sklearn.cluster.KMeans` by calling `kmeans = skc.Kmeans(n_clusters = ...)` to initialize a k-means model. Train it by calling the fitting method on the tuning curves, and get the cluster labels with the predict function (check the documentation)."
   ]
  },
  {
   "cell_type": "code",
   "execution_count": 13,
   "metadata": {},
   "outputs": [],
   "source": [
    "# create model instance\n",
    "\n",
    "# YOUR CODE HERE\n",
    "\n",
    "# fit the model \n",
    "\n",
    "# YOUR CODE HERE\n",
    "\n",
    "# predict labels and check which neurons are assigned to which cluster\n",
    "\n",
    "# YOUR CODE HERE"
   ]
  },
  {
   "cell_type": "markdown",
   "metadata": {},
   "source": [
    "Extract and plot the cluster means. What do cluster means correspond to?"
   ]
  },
  {
   "cell_type": "code",
   "execution_count": 16,
   "metadata": {},
   "outputs": [
    {
     "data": {
      "text/plain": [
       "<Figure size 240x240 with 0 Axes>"
      ]
     },
     "execution_count": 16,
     "metadata": {},
     "output_type": "execute_result"
    },
    {
     "data": {
      "text/plain": [
       "<Figure size 240x240 with 0 Axes>"
      ]
     },
     "metadata": {},
     "output_type": "display_data"
    }
   ],
   "source": [
    "plt.figure(figsize=(2,2), dpi=120)\n",
    "\n",
    "# YOUR CODE HERE\n"
   ]
  },
  {
   "cell_type": "markdown",
   "metadata": {},
   "source": [
    "Your answer here."
   ]
  },
  {
   "cell_type": "markdown",
   "metadata": {},
   "source": [
    "### Hyperparameter selection with Silhouette analysis\n",
    "\n",
    "Repeat the analysis for different cluster sizes k. For each k, print the silhouette score. Which is the best number of clusters?"
   ]
  },
  {
   "cell_type": "code",
   "execution_count": 17,
   "metadata": {},
   "outputs": [],
   "source": [
    "# repeat over different k and print Silhouette score\n"
   ]
  },
  {
   "cell_type": "markdown",
   "metadata": {},
   "source": [
    "We will now simulate neurons from 4 subpopulations, corresponding to neurons that prefer 0, 45, 90, and 135 degree. Then, we will repeat the Silhouette analysis."
   ]
  },
  {
   "cell_type": "code",
   "execution_count": 18,
   "metadata": {},
   "outputs": [],
   "source": [
    "n_neurons = 100\n",
    "\n",
    "# Each neuron prefers a random direction between 0 and pi\n",
    "preferred_directions = np.concatenate([np.random.randn(int(n_neurons/4))/10, \n",
    "                                       np.random.randn(int(n_neurons/4))/10 + np.pi/4,\n",
    "                                       np.random.randn(int(n_neurons/4))/10 + np.pi/2,\n",
    "                                       np.random.randn(int(n_neurons/4))/10 + 3*np.pi/4])\n",
    "\n",
    "# Create firing rates as a function of presented orientations\n",
    "noiselevel = 1\n",
    "\n",
    "# Use the Von Mises distribution function defined above\n",
    "\n",
    "# YOUR CODE HERE\n",
    "\n",
    "# calculate tuning curves\n",
    "\n",
    "# UNCOMMENT CODE BELOW TO CALCULATE TUNING CURVES\n",
    "\n",
    "# tuning_curves = np.array([sps.binned_statistic(stimuli, fr, statistic='mean', bins=8)[0] \n",
    "#                           for fr in V1_rates])"
   ]
  },
  {
   "cell_type": "code",
   "execution_count": 19,
   "metadata": {},
   "outputs": [],
   "source": [
    "# repeat Silhouette analysis for different k\n",
    "\n",
    "# YOUR CODE HERE"
   ]
  },
  {
   "cell_type": "markdown",
   "metadata": {},
   "source": [
    "We see that for a ground truth of $k = 4$ clusters, the Silhouette analysis recovers the correct hyperparameter k. \n",
    "You could now check whether the ability to recover 4 clusters depends on the level of noise in the firing rates. When you set the noise level to 10, can k means still distinguish 4 clusters?\n",
    "\n",
    "Throughout the tutorial and homework, you have learned how to implement classifiers and clustering analysis. Moreover, you have seen how simulated data can be used to validate our methods: Knowing the \"ground truth\", can we get back the true values by applying some type of analysis? How noisy can our data be before we are unable to get back to these true parameters? In statistics, this type of validation is called \"parameter recovery\"."
   ]
  },
  {
   "cell_type": "markdown",
   "metadata": {},
   "source": [
    "## The end"
   ]
  }
 ],
 "metadata": {
  "kernelspec": {
   "display_name": "Python 3 (ipykernel)",
   "language": "python",
   "name": "python3"
  },
  "language_info": {
   "codemirror_mode": {
    "name": "ipython",
    "version": 3
   },
   "file_extension": ".py",
   "mimetype": "text/x-python",
   "name": "python",
   "nbconvert_exporter": "python",
   "pygments_lexer": "ipython3",
   "version": "3.8.12"
  }
 },
 "nbformat": 4,
 "nbformat_minor": 1
}
