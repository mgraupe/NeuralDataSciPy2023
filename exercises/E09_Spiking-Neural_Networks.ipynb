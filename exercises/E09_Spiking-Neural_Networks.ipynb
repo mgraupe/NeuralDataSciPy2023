{
 "cells": [
  {
   "cell_type": "markdown",
   "id": "b3e8efba",
   "metadata": {},
   "source": [
    "# E09 Spiking neural networks\n",
    "\n",
    "In this week's homework, we are going to use the code from the tutorial and look at the effect of changes in its parameters in a more systematic way."
   ]
  },
  {
   "cell_type": "code",
   "execution_count": null,
   "id": "e6f9a3b2",
   "metadata": {},
   "outputs": [],
   "source": [
    "# Import Brian and switch off its \"code generation\" facility\n",
    "from brian2 import *\n",
    "prefs.codegen.target = 'numpy'\n",
    "import numpy as np\n",
    "import matplotlib.pyplot as plt"
   ]
  },
  {
   "cell_type": "code",
   "execution_count": null,
   "id": "ca7fee52",
   "metadata": {},
   "outputs": [],
   "source": [
    "# This code is slightly adapted from the tutorial (lower number of neurons and shorter run time,\n",
    "# and it additionally returns spike counts), see notes in the tutorial for more explanation about the code.\n",
    "\n",
    "def run_sim(input_rate, g, N_E=1000):\n",
    "    start_scope()\n",
    "    # network parameters\n",
    "    gamma = 0.25\n",
    "    N_I = int(gamma * N_E)\n",
    "    N = N_E + N_I\n",
    "    epsilon = 0.1\n",
    "    C_E = C_ext = int(epsilon * N_E)\n",
    "    C_I = int(epsilon * N_I)\n",
    "\n",
    "    # neuron parameters\n",
    "    tau = 20 * ms; theta = 20 * mV; V_r = 10 * mV; tau_rp = 2 * ms\n",
    "\n",
    "    # synapse parameters\n",
    "    J = 0.1 * mV; D = 1.5 * ms\n",
    "\n",
    "    # external stimulus\n",
    "    nu_thr = theta / (J * C_E * tau)\n",
    "\n",
    "    neurons = NeuronGroup(N,\"dv/dt = -v/tau : volt (unless refractory)\",\n",
    "                          threshold=\"v > theta\", reset=\"v = V_r\",\n",
    "                          refractory=tau_rp, method=\"exact\")\n",
    "\n",
    "    exc_neurons = neurons[:N_E]\n",
    "    inh_neurons = neurons[N_E:]\n",
    "    exc_synapses = Synapses(exc_neurons, neurons, on_pre=\"v += J\", delay=D)\n",
    "    exc_synapses.connect(i='k for k in sample(N_E, size=C_E)')\n",
    "    inhib_synapses = Synapses(inh_neurons, neurons, on_pre=\"v += -g*J\", delay=D)\n",
    "    inhib_synapses.connect(i='k for k in sample(N_I, size=C_I)')\n",
    "\n",
    "    nu_ext = input_rate * nu_thr\n",
    "    external_poisson_input = PoissonInput(target=neurons, target_var=\"v\",\n",
    "                                          N=C_ext, rate=nu_ext, weight=J)\n",
    "\n",
    "    rate_monitor = PopulationRateMonitor(neurons)\n",
    "    exc_monitor = SpikeMonitor(exc_neurons)\n",
    "    inh_monitor = SpikeMonitor(inh_neurons[:50])  # record 50 inhibitory neurons\n",
    "    state_monitor = StateMonitor(exc_neurons, 'v', record=0)  # record membrane potential of one neuron\n",
    "    run(0.5*second)\n",
    "    \n",
    "    return {'rate_t': rate_monitor.t, 'rate': rate_monitor.rate,\n",
    "            'exc_spikes_t': exc_monitor.t, 'exc_spikes_i': exc_monitor.i, 'exc_spikes_count': exc_monitor.count, \n",
    "            'inh_spikes_t': inh_monitor.t, 'inh_spikes_i': inh_monitor.i, 'inh_spikes_count': inh_monitor.count,\n",
    "            'state_t': state_monitor.t, 'state_v': state_monitor.v[0]}"
   ]
  },
  {
   "cell_type": "markdown",
   "id": "f4c9484e",
   "metadata": {},
   "source": [
    "In our model, each of the neurons in the network receives input via a `PoissonInput`. This models the summed effect of many neurons providing excitatory input to the cell, each spiking randomly according to a Poisson process. This is more efficient than actually simulating each of the external input cells and their synapses individually. \n",
    "The `input_rate` parameter that we provide to the `run_sim` function determines the *firing rate* of these external input neurons (as a value relative to the rate that is necessary to have an average input current that drives the neuron to its threshold), i.e. higher values means that each neuron in the network gets stronger external input.\n",
    "\n",
    "## Question: how does the network activity depend on the input rate and the strength of the inhibition?\n",
    "\n",
    "To answer this question, we will first simulate the network several times, with different values for the external input rate `input_rate` and for the strength of the inhibitory synapses `g`. For each parameter combination below, store the *mean firing* rate of the excitatory neurons in the `firing_rate` matrix, and the *standard deviation of the firing rates* across excitatory neurons in the `firing_rate_stddev` matrix.\n",
    "\n",
    "**Hints**:\n",
    "  * The `results` dictionary returned by `run_sim`, contains an entry `exc_spikes_count` with an array containing the total number of spikes for each neuron.\n",
    "  * Each simulation runs for 0.5s"
   ]
  },
  {
   "cell_type": "code",
   "execution_count": null,
   "id": "b21349d3",
   "metadata": {},
   "outputs": [],
   "source": [
    "# Parameters that we are varying\n",
    "g_values = [0, 2, 4]\n",
    "input_rate_values = np.linspace(0, 5, 6)  # 6 values equally spaced between 0 and 5\n",
    "\n",
    "# Empty matrices of the appropriate size\n",
    "firing_rate = np.empty((len(input_rate_values), len(g_values)))\n",
    "firing_rate_stddev = np.empty((len(input_rate_values), len(g_values)))\n",
    "\n",
    "print('Running')\n",
    "for input_rate_index, input_rate_value in enumerate(input_rate_values):\n",
    "    for g_index, g_value in enumerate(g_values):\n",
    "        results = run_sim(input_rate_value, g_value)\n",
    "        # Store mean firing rate: \n",
    "        # TODO\n",
    "        # Store standard deviation of firing rates\n",
    "        # TODO\n",
    "        print('.', end='')  # Print a dot to show progress\n",
    "print('\\nFinished')"
   ]
  },
  {
   "cell_type": "markdown",
   "id": "cf3e983e",
   "metadata": {},
   "source": [
    "We will now plot the mean firing rate and its standard deviation over neurons as a function of the external input rate, separately for the different strengths of inhibition.\n",
    "\n",
    "**Hints**:\n",
    "  * Use `plt.errorbar` to plot lines (for the mean firing rate) with error bars (for the standard deviation). The syntax is `plt.errorbar(x_values, y_values, error_values)`\n",
    "  * If you add `label=f'g = {g_value}'` to the `plt.errorbar` call, the legend shows the strength of the inhibition in the label\n",
    "  * Note that the error bars will most likely be very small and therefore almost invisible. For making sure your plotting code is correct, you can multiply the standard deviations by 10 for the plot – but make sure to remove this multiplication in the final version! "
   ]
  },
  {
   "cell_type": "code",
   "execution_count": null,
   "id": "d7a17408",
   "metadata": {},
   "outputs": [],
   "source": [
    "for g_index, g_value in enumerate(g_values):\n",
    "    # TODO: Use plt.errorbar to plot the firing rate for the current value of g over the input_rate, and add\n",
    "    # error bars for the standard deviation of the firing rate across cells\n",
    "    # plt.errorbar(...)\n",
    "    plt.legend()\n",
    "    plt.ylabel('mean firing rate (spikes/second)')\n",
    "    plt.xlabel('input strength');"
   ]
  },
  {
   "cell_type": "markdown",
   "id": "5e42a4fe",
   "metadata": {},
   "source": [
    "## Question: identify the dynamic regime\n",
    "\n",
    "Simulate network with the following given values for the `input_rate` and `g`, and plot the results using the provided `plot_results` function (you can use the `title` argument in `plot_results` to give them the corresponding letter as titles). **Use a bigger network with N_E=10000.** The plots will show a raster plot on top, and the population rate on the bottom.\n",
    "\n",
    "### Values\n",
    "**A** - `input_rate=2`, `g=3`\n",
    "\n",
    "**B** - `input_rate=0.9`, `g=4.5`\n",
    "\n",
    "**C** = `input_rate=4`, `g=6`\n",
    "\n",
    "**Hint**:\n",
    "\n",
    "Be aware that these simulations can take a few minutes to finish."
   ]
  },
  {
   "cell_type": "code",
   "execution_count": null,
   "id": "d9ea3582",
   "metadata": {},
   "outputs": [],
   "source": [
    "def plot_results(results, title=None):\n",
    "    fig, axs = plt.subplots(2, 1, sharex=True, gridspec_kw={\"height_ratios\": [3, 1]})\n",
    "    axs[0].plot(results['exc_spikes_t'][results['exc_spikes_i']<50]/ms,\n",
    "                results['exc_spikes_i'][results['exc_spikes_i']<50], '|')\n",
    "    axs[0].set(xlim=(300, 500), xticks=[])\n",
    "    axs[1].plot(results['rate_t']/ms, results['rate']/Hz)\n",
    "    axs[1].set(xlim=(300, 500), xlabel='t (ms)', ylabel='rate (1/second)')\n",
    "    if title:\n",
    "        fig.suptitle(title)"
   ]
  },
  {
   "cell_type": "code",
   "execution_count": null,
   "id": "d56fbe74",
   "metadata": {},
   "outputs": [],
   "source": [
    "#TODO: Simulate regime A and plot the results with plot_results"
   ]
  },
  {
   "cell_type": "code",
   "execution_count": null,
   "id": "86ad3287",
   "metadata": {},
   "outputs": [],
   "source": [
    "#TODO: Simulate regime B and plot the results with plot_results"
   ]
  },
  {
   "cell_type": "code",
   "execution_count": null,
   "id": "b2a5ff7a",
   "metadata": {},
   "outputs": [],
   "source": [
    "#TODO: Simulate regime C and plot the results with plot_results"
   ]
  },
  {
   "cell_type": "markdown",
   "id": "2f2efa9c",
   "metadata": {},
   "source": [
    "How do the following descriptions map to the above results (i.e. which letter corresponds to which description)?\n",
    "\n",
    "- **regular + fast oscillations**\n",
    "- **irregular + slow oscillations**\n",
    "- **regular + synchronous**\n",
    "\n",
    "**Hints**:\n",
    "- regular/irregular describes the regularity of individual cells\n",
    "- synchronous/asynchronous describes the regularity across cells\n",
    "- oscillations refers to the activity of the whole population"
   ]
  }
 ],
 "metadata": {
  "kernelspec": {
   "display_name": "Python 3 (ipykernel)",
   "language": "python",
   "name": "python3"
  },
  "language_info": {
   "codemirror_mode": {
    "name": "ipython",
    "version": 3
   },
   "file_extension": ".py",
   "mimetype": "text/x-python",
   "name": "python",
   "nbconvert_exporter": "python",
   "pygments_lexer": "ipython3",
   "version": "3.8.12"
  }
 },
 "nbformat": 4,
 "nbformat_minor": 5
}
