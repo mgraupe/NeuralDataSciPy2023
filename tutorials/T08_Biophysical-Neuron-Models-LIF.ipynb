{
 "cells": [
  {
   "cell_type": "markdown",
   "metadata": {},
   "source": [
    "# TD 8: Numerical integration of ODEs, and application to the Leaky Integrate-and-Fire neuron model\n",
    "---\n",
    "\n",
    "In this tutorial, we will first introduce methods for the numerical integration of differential equations. We will then use those methods to implement a simulation of an Integrate-and-Fire neuron."
   ]
  },
  {
   "cell_type": "markdown",
   "metadata": {},
   "source": [
    "## A short introduction to the numerical integration of differential equations\n",
    "\n",
    "The time evolution of physical systems (planets & membrane voltages) is often described by differential equations, i.e., some equation of the type\n",
    "\n",
    "$$ \\frac{dx}{dt} = f(x, t) $$\n",
    "\n",
    "When those equations are simple (when $f$ is a simple function), we can solve such equations analytically. An example would be $\\dot x = -x/\\tau$.\n",
    "\n",
    "However, it may come in handy to be able to solve such equations numerically, either to check an analytical result or because we haven't been able to fine one (it might not even exist in closed form).\n",
    "\n"
   ]
  },
  {
   "cell_type": "code",
   "execution_count": null,
   "metadata": {},
   "outputs": [],
   "source": [
    "# some imports for the numerics to follow, you'll be familiar with these\n",
    "%matplotlib notebook\n",
    "import numpy as np\n",
    "import matplotlib.pyplot as plt"
   ]
  },
  {
   "cell_type": "markdown",
   "metadata": {},
   "source": [
    "Let us first plot the analytical solution for the exponential relaxation of the membrane potential $V$ towards the resting potential $E_L$ in the absence of input current. The dynamical equation is given by (see lecture)\n",
    "$$\\frac{dV}{dt} = \\frac{1}{\\tau_m}(E_L-V),$$\n",
    "where $\\tau_m=C/g_L$ is the membrane time constant. In this example, the membrane potential is our dynamic variable $x$ from the example above, and the right-hand side of the equation corresponds to our function $f(x,t)$."
   ]
  },
  {
   "cell_type": "code",
   "execution_count": null,
   "metadata": {},
   "outputs": [],
   "source": [
    "## Decay dynamics\n",
    "\n",
    "# define parameters\n",
    "tau = 7.    # decay time constant, in ms\n",
    "V0 = -70.    # initial voltage, in mV\n",
    "EL = -50.   # resting potential, in mV\n",
    "\n",
    "t = np.arange(0, 100)\n",
    "\n",
    "# This is the right-hand side of the differential equation\n",
    "# (the time-derivative of v(t); it depends only on the \n",
    "# voltage and not on the time t)\n",
    "def dvdt(v):\n",
    "    return (EL-v)/tau\n",
    "\n",
    "# For this simple case, we already know\n",
    "# the solution of the ODE:\n",
    "def v_theory(t):\n",
    "    return (V0-EL)*np.exp(-t/tau) + EL\n",
    "\n",
    "fig, ax = plt.subplots()\n",
    "ax.plot(t, v_theory(t), label='Analytical solution')\n",
    "ax.set_xlabel('time (ms)')\n",
    "ax.set_ylabel('voltage (mV)')\n",
    "ax.legend()"
   ]
  },
  {
   "cell_type": "markdown",
   "metadata": {},
   "source": [
    "Question: can we compute the time course $V(t)$ of the potential by using the ODE?"
   ]
  },
  {
   "cell_type": "markdown",
   "metadata": {},
   "source": [
    "#### Euler method\n",
    "\n",
    "A very simple and straightforward method to numerically solve differential equations is the *Euler method*, which relies on the discretization in time of the dynamics and the approximation of the time derivative by a finite difference between subsequent time points:\n",
    "\n",
    "$$\\frac{dx}{dt}\\approx\\frac{\\Delta x}{\\Delta t} \\ \\ \\Rightarrow \\ \\ \\Delta x \\approx \\Delta t \\frac{dx}{dt}=\\Delta t f(x,t)$$\n",
    "\n",
    "That is, for $x(t+\\Delta t) = x(t) + \\Delta x$ we obtain:\n",
    "\n",
    "$$ x(t+\\Delta t) = x(t) + \\Delta t f(x,t)$$"
   ]
  },
  {
   "cell_type": "code",
   "execution_count": null,
   "metadata": {},
   "outputs": [],
   "source": [
    "# Q: Can you translate the Euler formula into an algorithm?\n",
    "# A: Yes, the Euler formula prescribes an iterative method, \n",
    "#    where we have to compute the solution from one timestep\n",
    "#    to the next!\n",
    "\n",
    "# We should define a time step and an integration time:\n",
    "dt = 1.0\n",
    "T = 100.\n",
    "nt = int(T/dt)\n",
    "t = dt*np.arange(nt)\n",
    "\n",
    "# An empty array to be filled with the computed values\n",
    "# of the voltage:\n",
    "v_euler = np.zeros(nt)\n",
    "\n",
    "# Implement the initial condition\n",
    "v_euler[0] = V0\n",
    "\n",
    "# Our array with the solution BEFORE computing the values\n",
    "print(v_euler[:10])\n",
    "\n",
    "# use Euler formula iteratively:\n",
    "for i in range(nt-1):\n",
    "    v_euler[i+1] = v_euler[i] + dt * dvdt(v_euler[i])\n",
    "\n",
    "# Our array with the solution AFTER computing the values\n",
    "print(v_euler[:10])"
   ]
  },
  {
   "cell_type": "code",
   "execution_count": null,
   "metadata": {
    "scrolled": false
   },
   "outputs": [],
   "source": [
    "# Plot here the theoretical result \n",
    "# together with your numerical solution.\n",
    "\n",
    "fig, ax = plt.subplots()\n",
    "ax.plot(t, v_theory(t), label='Analytical solution')\n",
    "ax.plot(t, v_euler, label='Euler')\n",
    "ax.set_xlabel('time (ms)')\n",
    "ax.set_ylabel('voltage (mV)')\n",
    "ax.legend()"
   ]
  },
  {
   "cell_type": "markdown",
   "metadata": {},
   "source": [
    "When using the Euler integration method, **the result crucially depends on the time step** used! \n",
    "\n",
    "*Question:* How do we know that the result is correct? \n",
    "\n",
    "*Answer:* Repeat integration with finer resolution (half the time step) and check for convergence!"
   ]
  },
  {
   "cell_type": "code",
   "execution_count": null,
   "metadata": {},
   "outputs": [],
   "source": [
    "# Repeat the above for different time steps and compare."
   ]
  },
  {
   "cell_type": "markdown",
   "metadata": {},
   "source": [
    "#### Other methods: using the `scipy` ODE solver\n",
    "\n",
    "The undeniable advantage of the Euler method is it's simplicity. In many circumstances, one can use much more powerful algorithms; powerful in the sense of better convergence to the true result with respect to the time step used, robustness, etc. However, in almost all practical situations, the easiest option is to use built-in ODE solvers. One such solver is part of the `scipy` python module: `scipy.optimize.odeint` \n"
   ]
  },
  {
   "cell_type": "code",
   "execution_count": null,
   "metadata": {},
   "outputs": [],
   "source": [
    "# We can use a numerical solver that is already \n",
    "# programmed for us!\n",
    "from scipy.integrate import odeint"
   ]
  },
  {
   "cell_type": "code",
   "execution_count": null,
   "metadata": {},
   "outputs": [],
   "source": [
    "# check out the documentation\n",
    "odeint?"
   ]
  },
  {
   "cell_type": "code",
   "execution_count": null,
   "metadata": {},
   "outputs": [],
   "source": [
    "# Can you use odeint to obtain another numerical solution\n",
    "# for v(t)? \n",
    "\n",
    "# For odeint, we have to redefine the derivative function\n",
    "# (corresponding to f(x,t) above) in such a way that the\n",
    "# second argument represents the current time!\n",
    "def dvdt_odeint_safe(v, t):\n",
    "    return dvdt(v)\n",
    "\n",
    "# odeint calculates the solution at the times that we pass\n",
    "# on, and we have to specify the initial condition also:\n",
    "v_odeint = odeint(dvdt_odeint_safe, V0, t)\n"
   ]
  },
  {
   "cell_type": "code",
   "execution_count": null,
   "metadata": {},
   "outputs": [],
   "source": [
    "# Plot a comparison of the theoretical and the two\n",
    "# numerical solutions here.\n",
    "\n",
    "fig, ax = plt.subplots()\n",
    "ax.plot(t, v_theory(t), label='Analytical solution')\n",
    "ax.plot(t, v_odeint, label='Solution with odeint')\n",
    "ax.set_xlabel('time (ms)')\n",
    "ax.set_ylabel('voltage (mV)')\n",
    "ax.legend()"
   ]
  },
  {
   "cell_type": "markdown",
   "metadata": {},
   "source": [
    "**NOTE:** `scipy.odeint` requires the derivative function to take time as second argument!"
   ]
  },
  {
   "cell_type": "markdown",
   "metadata": {},
   "source": [
    "## Simulation of a Leaky Integrate-and-Fire neuron\n",
    "\n",
    "We are now equipped to simulate a LIF neuron for arbitrary input current. Think about which method you would choose to solve the ODE for the membrane potential. Do you have an idea how to implement the threshold condition and the reset?\n",
    "\n",
    "Also, we have to include now the input current to our Leaky-Integrate-and-Fire neuron:\n",
    "\n",
    "$$\\frac{dV}{dt} = \\frac{1}{\\tau_m}(E_L-V+I),$$\n",
    "\n",
    "where for simplicity we rescaled the input current by the input conductance $g_L$ and simply write $I$ with units of $V$.\n"
   ]
  },
  {
   "cell_type": "code",
   "execution_count": null,
   "metadata": {},
   "outputs": [],
   "source": [
    "# We need to redefine the derivative function,\n",
    "# which for the LIF depends on the input current!\n",
    "def dvdt(v, I):\n",
    "    \"\"\"Derivative of the membrane potential for the \n",
    "    LIF. Note that we use I as a short-hand for \n",
    "    the input current divided by the leak \n",
    "    conductance gL, which has the units of voltage.\"\"\"\n",
    "    return (EL+I-v)/tau\n",
    "\n",
    "# Try to solve the equation for the LIF.\n",
    "# Start with a constant input current below the firing threshold.\n",
    "\n",
    "# We have to define a spike threshold voltage and the reset voltage!\n",
    "Vthreshold = -30. # mV\n",
    "Vreset = -55.0 # mV\n",
    "\n",
    "dt = 0.01 # time step in ms\n",
    "T = 100.0 # duration in ms\n",
    "t = np.arange(0,T,dt)\n",
    "nt = len(t)\n",
    "\n",
    "\n",
    "# ..."
   ]
  },
  {
   "cell_type": "markdown",
   "metadata": {},
   "source": [
    "Of great interest in neuroscience is generally the timing of spikes of individual neurons. The attractivity of Integrate-and-Fire neurons is their possibility to generate such spiketimes in well-controlled settings."
   ]
  },
  {
   "cell_type": "code",
   "execution_count": null,
   "metadata": {},
   "outputs": [],
   "source": [
    "# How does the membrane voltage evolve with a constant input current \n",
    "# above the firing threshold?\n",
    "\n",
    "# When the neuron spikes, add the spiketime to a list:\n",
    "spiketimes = []\n",
    "# --> whenever there's a spike at time 'time', do \n",
    "spiketimes.append(time)\n"
   ]
  },
  {
   "cell_type": "code",
   "execution_count": null,
   "metadata": {},
   "outputs": [],
   "source": [
    "# Plot the membrane potential v(t) together with the spikes\n",
    "dummytimes = [3, 23, 49, 52, 78, 90]\n",
    "fig, ax = plt.subplots()\n",
    "ax.plot(t, np.sin(0.1*t), label='demo voltage')\n",
    "for time in dummytimes:\n",
    "    ax.axvline(time, color='k')\n",
    "ax.plot([],[],'k',label='spikes')\n",
    "ax.legend()"
   ]
  },
  {
   "cell_type": "markdown",
   "metadata": {},
   "source": [
    "We can use our numerical solution of the LIF to check the theoretical prediction of the firing rate, i.e.,\n",
    "\n",
    "$$f(I) = \\frac{1}{\\tau_m} \\left(\\log\\frac{E_L+I/g_L-V_{\\rm reset}}{E_L+I/g_L-V_{\\rm threshold}}\\right)^{-1}$$"
   ]
  },
  {
   "cell_type": "code",
   "execution_count": null,
   "metadata": {},
   "outputs": [],
   "source": [
    "# Can you calculate the firing rate (the inverse \n",
    "# interspike interval, or ISI) for different values\n",
    "# of the input current?"
   ]
  },
  {
   "cell_type": "markdown",
   "metadata": {},
   "source": [
    "### Simulation of a noisy LIF!\n",
    "\n",
    "Instead of a deterministic, or even constant input current $I(t)$, we now consider a noisy input that represents the combined effect of many presynaptic neurons:\n",
    "\n",
    "$$I(t) = I_0 + \\sigma \\xi(t),$$\n",
    "\n",
    "where $I_0$ is the (constant) mean input, $\\sigma$ is a parameter that represents the noise strength, and $\\xi(t)$ is a Gaussian stochastic process (normal-distributed) with correlation function $\\langle\\xi(t)\\xi(t')\\rangle=\\delta(t-t')$. \n",
    "\n",
    "In discretized form, the resulting _**stochastic differential equation**_ becomes\n",
    "\n",
    "$$v_{i+1} = v_i + \\Delta t \\left[\\left(\\frac{dv}{dt}\\right)_{\\rm det}(v_i, t_i) + \\sigma\\sqrt{\\frac{\\tau_m}{\\Delta t}} \\xi_i\\right],$$\n",
    "\n",
    "where $\\xi_i$ is now a random number drawn from a normal distribution with zero mean and normalized standard deviation."
   ]
  },
  {
   "cell_type": "code",
   "execution_count": null,
   "metadata": {},
   "outputs": [],
   "source": [
    "# We get a single random number using\n",
    "xi = randn()\n",
    "print(xi)\n",
    "\n",
    "# We can check that the histogram of many of \n",
    "# of these gives a normal (Gauss) distribution:\n",
    "hist(randn(1000000), bins=100, density=True)\n",
    "x = linspace(-4,4,201)\n",
    "plot(x, exp(-x**2/2)/sqrt(2*pi), color='r',linewidth=2)"
   ]
  },
  {
   "cell_type": "code",
   "execution_count": null,
   "metadata": {},
   "outputs": [],
   "source": [
    "# Can you solve the stochastic ODE numerically?\n",
    "sigma = 2.0\n",
    "\n",
    "# ..."
   ]
  }
 ],
 "metadata": {
  "kernelspec": {
   "display_name": "Python 3 (ipykernel)",
   "language": "python",
   "name": "python3"
  },
  "language_info": {
   "codemirror_mode": {
    "name": "ipython",
    "version": 3
   },
   "file_extension": ".py",
   "mimetype": "text/x-python",
   "name": "python",
   "nbconvert_exporter": "python",
   "pygments_lexer": "ipython3",
   "version": "3.10.8"
  }
 },
 "nbformat": 4,
 "nbformat_minor": 2
}
